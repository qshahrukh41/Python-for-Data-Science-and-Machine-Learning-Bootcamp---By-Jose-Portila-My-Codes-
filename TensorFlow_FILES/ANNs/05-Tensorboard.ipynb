{
 "cells": [
  {
   "cell_type": "markdown",
   "metadata": {},
   "source": [
    "<a href=\"https://www.pieriandata.com\"><img src=\"../Pierian_Data_Logo.PNG\"></a>\n",
    "<strong><center>Copyright by Pierian Data Inc.</center></strong> \n",
    "<strong><center>Created by Jose Marcial Portilla.</center></strong>"
   ]
  },
  {
   "cell_type": "markdown",
   "metadata": {},
   "source": [
    "# Tensorboard\n",
    "\n",
    "---\n",
    "---\n",
    "Tensorboard is a visualization tool from Google designed to work in conjunction with TensorFlow to visualize various aspects of your model\n",
    "\n",
    "\n",
    "**NOTE: You must watch the corresponding video to understand this lecture. This notebook can't serve as a full guide. Please watch the video BEFORE posting questions to the QA forum.**\n",
    "\n",
    "---\n",
    "---\n",
    "\n",
    "Let's explore the built in data visualization capabilities that come with Tensorboard.\n",
    "\n",
    "Full official tutorial available here: https://www.tensorflow.org/tensorboard/get_started\n",
    "\n",
    "## Data"
   ]
  },
  {
   "cell_type": "code",
   "execution_count": 1,
   "metadata": {},
   "outputs": [],
   "source": [
    "import pandas as pd\n",
    "import numpy as np"
   ]
  },
  {
   "cell_type": "code",
   "execution_count": 2,
   "metadata": {},
   "outputs": [],
   "source": [
    "df = pd.read_csv('../DATA/cancer_classification.csv')"
   ]
  },
  {
   "cell_type": "markdown",
   "metadata": {},
   "source": [
    "### Train Test Split"
   ]
  },
  {
   "cell_type": "code",
   "execution_count": 3,
   "metadata": {},
   "outputs": [],
   "source": [
    "X = df.drop('benign_0__mal_1',axis=1).values\n",
    "y = df['benign_0__mal_1'].values"
   ]
  },
  {
   "cell_type": "code",
   "execution_count": 4,
   "metadata": {},
   "outputs": [],
   "source": [
    "from sklearn.model_selection import train_test_split"
   ]
  },
  {
   "cell_type": "code",
   "execution_count": 5,
   "metadata": {},
   "outputs": [],
   "source": [
    "X_train, X_test, y_train, y_test = train_test_split(X,y,test_size=0.25,random_state=101)"
   ]
  },
  {
   "cell_type": "markdown",
   "metadata": {},
   "source": [
    "\n",
    "### Scaling Data"
   ]
  },
  {
   "cell_type": "code",
   "execution_count": 6,
   "metadata": {},
   "outputs": [],
   "source": [
    "from sklearn.preprocessing import MinMaxScaler"
   ]
  },
  {
   "cell_type": "code",
   "execution_count": 7,
   "metadata": {},
   "outputs": [],
   "source": [
    "scaler = MinMaxScaler()"
   ]
  },
  {
   "cell_type": "code",
   "execution_count": 8,
   "metadata": {},
   "outputs": [
    {
     "data": {
      "text/plain": [
       "MinMaxScaler(copy=True, feature_range=(0, 1))"
      ]
     },
     "execution_count": 8,
     "metadata": {},
     "output_type": "execute_result"
    }
   ],
   "source": [
    "scaler.fit(X_train)"
   ]
  },
  {
   "cell_type": "code",
   "execution_count": 9,
   "metadata": {},
   "outputs": [],
   "source": [
    "X_train = scaler.transform(X_train)\n",
    "X_test = scaler.transform(X_test)"
   ]
  },
  {
   "cell_type": "markdown",
   "metadata": {},
   "source": [
    "## Creating the Model"
   ]
  },
  {
   "cell_type": "code",
   "execution_count": 10,
   "metadata": {},
   "outputs": [],
   "source": [
    "import tensorflow as tf\n",
    "from tensorflow.keras.models import Sequential\n",
    "from tensorflow.keras.layers import Dense, Activation,Dropout"
   ]
  },
  {
   "cell_type": "code",
   "execution_count": 11,
   "metadata": {},
   "outputs": [],
   "source": [
    "#Here from keras.callbacks we import TensorBoard\n",
    "from tensorflow.keras.callbacks import EarlyStopping,TensorBoard"
   ]
  },
  {
   "cell_type": "code",
   "execution_count": 12,
   "metadata": {},
   "outputs": [],
   "source": [
    "early_stop = EarlyStopping(monitor='val_loss', mode='min', verbose=1, patience=25)"
   ]
  },
  {
   "cell_type": "code",
   "execution_count": 14,
   "metadata": {},
   "outputs": [
    {
     "data": {
      "text/plain": [
       "'C:\\\\Users\\\\SHARUKH\\\\Desktop\\\\Refactored_Py_DS_ML_Bootcamp-master\\\\TensorFlow_FILES\\\\ANNs'"
      ]
     },
     "execution_count": 14,
     "metadata": {},
     "output_type": "execute_result"
    }
   ],
   "source": [
    "#To see where the file is located\n",
    "%pwd"
   ]
  },
  {
   "cell_type": "markdown",
   "metadata": {},
   "source": [
    "## Creating the Tensorboard Callback\n",
    "\n",
    "TensorBoard is a visualization tool provided with TensorFlow.\n",
    "\n",
    "This callback logs events for TensorBoard, including:\n",
    "* Metrics summary plots\n",
    "* Training graph visualization\n",
    "* Activation histograms\n",
    "* Sampled profiling\n",
    "\n",
    "If you have installed TensorFlow with pip, you should be able\n",
    "to launch TensorBoard from the command line:\n",
    "\n",
    "```sh\n",
    "tensorboard --logdir=path_to_your_logs\n",
    "```\n",
    "\n",
    "You can find more information about TensorBoard\n",
    "[here](https://www.tensorflow.org/tensorboard/).\n",
    "\n",
    "    Arguments:\n",
    "        log_dir: the path of the directory where to save the log files to be\n",
    "          parsed by TensorBoard.\n",
    "        histogram_freq: frequency (in epochs) at which to compute activation and\n",
    "          weight histograms for the layers of the model. If set to 0, histograms\n",
    "          won't be computed. Validation data (or split) must be specified for\n",
    "          histogram visualizations.\n",
    "        write_graph: whether to visualize the graph in TensorBoard. The log file\n",
    "          can become quite large when write_graph is set to True.\n",
    "        write_images: whether to write model weights to visualize as image in\n",
    "          TensorBoard.\n",
    "        update_freq: `'batch'` or `'epoch'` or integer. When using `'batch'`,\n",
    "          writes the losses and metrics to TensorBoard after each batch. The same\n",
    "          applies for `'epoch'`. If using an integer, let's say `1000`, the\n",
    "          callback will write the metrics and losses to TensorBoard every 1000\n",
    "          samples. Note that writing too frequently to TensorBoard can slow down\n",
    "          your training.\n",
    "        profile_batch: Profile the batch to sample compute characteristics. By\n",
    "          default, it will profile the second batch. Set profile_batch=0 to\n",
    "          disable profiling. Must run in TensorFlow eager mode.\n",
    "        embeddings_freq: frequency (in epochs) at which embedding layers will\n",
    "          be visualized. If set to 0, embeddings won't be visualized.\n",
    "       "
   ]
  },
  {
   "cell_type": "code",
   "execution_count": 15,
   "metadata": {},
   "outputs": [],
   "source": [
    "from datetime import datetime"
   ]
  },
  {
   "cell_type": "code",
   "execution_count": 16,
   "metadata": {},
   "outputs": [
    {
     "data": {
      "text/plain": [
       "'2020-05-21--1827'"
      ]
     },
     "execution_count": 16,
     "metadata": {},
     "output_type": "execute_result"
    }
   ],
   "source": [
    "#Today's date and the hour-minute now.\n",
    "#We can have this as the name of our folder that way you have a unique log each time you run your model\n",
    "#You can go back edit the numbers of neurons and layers and visualize each of those models with TensorBoard\n",
    "datetime.now().strftime(\"%Y-%m-%d--%H%M\")"
   ]
  },
  {
   "cell_type": "code",
   "execution_count": 17,
   "metadata": {},
   "outputs": [],
   "source": [
    "# WINDOWS: Use \"logs\\\\fit\"\n",
    "# MACOS/LINUX: Use \"logs\\fit\"\n",
    "\n",
    "log_directory = 'logs\\\\fit'\n",
    "\n",
    "# Associate timestamp to keep track\n",
    "# OPTIONAL: ADD A TIMESTAMP FOR UNIQUE FOLDER\n",
    "# timestamp = datetime.now().strftime(\"%Y-%m-%d--%H%M\")\n",
    "# log_directory = log_directory + '\\\\' + timestamp\n",
    "\n",
    "\n",
    "board = TensorBoard(log_dir=log_directory,histogram_freq=1,\n",
    "    write_graph=True,\n",
    "    write_images=True,\n",
    "    update_freq='epoch',\n",
    "    profile_batch=2,\n",
    "    embeddings_freq=1)"
   ]
  },
  {
   "cell_type": "markdown",
   "metadata": {},
   "source": [
    "Now create the model layers:"
   ]
  },
  {
   "cell_type": "code",
   "execution_count": 18,
   "metadata": {},
   "outputs": [],
   "source": [
    "model = Sequential()\n",
    "model.add(Dense(units=30,activation='relu'))\n",
    "model.add(Dropout(0.5))\n",
    "model.add(Dense(units=15,activation='relu'))\n",
    "model.add(Dropout(0.5))\n",
    "model.add(Dense(units=1,activation='sigmoid'))\n",
    "model.compile(loss='binary_crossentropy', optimizer='adam')"
   ]
  },
  {
   "cell_type": "markdown",
   "metadata": {},
   "source": [
    "## Train the Model"
   ]
  },
  {
   "cell_type": "code",
   "execution_count": 19,
   "metadata": {},
   "outputs": [
    {
     "name": "stdout",
     "output_type": "stream",
     "text": [
      "Epoch 1/600\n",
      " 2/14 [===>..........................] - ETA: 4s - loss: 0.7581WARNING:tensorflow:Method (on_train_batch_end) is slow compared to the batch update (0.402182). Check your callbacks.\n",
      "14/14 [==============================] - 2s 174ms/step - loss: 0.6997 - val_loss: 0.6676\n",
      "Epoch 2/600\n",
      "14/14 [==============================] - 1s 39ms/step - loss: 0.6514 - val_loss: 0.6471\n",
      "Epoch 3/600\n",
      "14/14 [==============================] - 0s 35ms/step - loss: 0.6597 - val_loss: 0.6236\n",
      "Epoch 4/600\n",
      "14/14 [==============================] - 0s 29ms/step - loss: 0.6463 - val_loss: 0.6075\n",
      "Epoch 5/600\n",
      "14/14 [==============================] - 0s 32ms/step - loss: 0.6273 - val_loss: 0.5839\n",
      "Epoch 6/600\n",
      "14/14 [==============================] - 0s 34ms/step - loss: 0.6019 - val_loss: 0.5557\n",
      "Epoch 7/600\n",
      "14/14 [==============================] - 1s 62ms/step - loss: 0.5747 - val_loss: 0.5191\n",
      "Epoch 8/600\n",
      "14/14 [==============================] - 0s 31ms/step - loss: 0.5382 - val_loss: 0.4855\n",
      "Epoch 9/600\n",
      "14/14 [==============================] - 0s 28ms/step - loss: 0.5214 - val_loss: 0.4476\n",
      "Epoch 10/600\n",
      "14/14 [==============================] - 0s 31ms/step - loss: 0.5085 - val_loss: 0.4184\n",
      "Epoch 11/600\n",
      "14/14 [==============================] - 0s 27ms/step - loss: 0.4909 - val_loss: 0.3966\n",
      "Epoch 12/600\n",
      "14/14 [==============================] - 1s 38ms/step - loss: 0.4851 - val_loss: 0.3797\n",
      "Epoch 13/600\n",
      "14/14 [==============================] - 2s 109ms/step - loss: 0.4402 - val_loss: 0.3536\n",
      "Epoch 14/600\n",
      "14/14 [==============================] - 1s 41ms/step - loss: 0.4275 - val_loss: 0.3325\n",
      "Epoch 15/600\n",
      "14/14 [==============================] - 1s 56ms/step - loss: 0.4078 - val_loss: 0.3130\n",
      "Epoch 16/600\n",
      "14/14 [==============================] - 1s 51ms/step - loss: 0.3660 - val_loss: 0.2919\n",
      "Epoch 17/600\n",
      "14/14 [==============================] - 0s 33ms/step - loss: 0.3658 - val_loss: 0.2728\n",
      "Epoch 18/600\n",
      "14/14 [==============================] - 1s 54ms/step - loss: 0.3563 - val_loss: 0.2587\n",
      "Epoch 19/600\n",
      "14/14 [==============================] - 1s 42ms/step - loss: 0.3508 - val_loss: 0.2514\n",
      "Epoch 20/600\n",
      "14/14 [==============================] - 1s 50ms/step - loss: 0.3355 - val_loss: 0.2402\n",
      "Epoch 21/600\n",
      "14/14 [==============================] - 1s 42ms/step - loss: 0.3166 - val_loss: 0.2249\n",
      "Epoch 22/600\n",
      "14/14 [==============================] - 1s 40ms/step - loss: 0.2944 - val_loss: 0.2134\n",
      "Epoch 23/600\n",
      "14/14 [==============================] - 1s 45ms/step - loss: 0.3468 - val_loss: 0.2018\n",
      "Epoch 24/600\n",
      "14/14 [==============================] - 1s 39ms/step - loss: 0.3178 - val_loss: 0.1958\n",
      "Epoch 25/600\n",
      "14/14 [==============================] - 1s 45ms/step - loss: 0.3010 - val_loss: 0.2074\n",
      "Epoch 26/600\n",
      "14/14 [==============================] - 1s 42ms/step - loss: 0.2994 - val_loss: 0.1903\n",
      "Epoch 27/600\n",
      "14/14 [==============================] - 1s 38ms/step - loss: 0.2753 - val_loss: 0.1828\n",
      "Epoch 28/600\n",
      "14/14 [==============================] - 1s 38ms/step - loss: 0.2742 - val_loss: 0.1809\n",
      "Epoch 29/600\n",
      "14/14 [==============================] - 0s 34ms/step - loss: 0.2661 - val_loss: 0.1758\n",
      "Epoch 30/600\n",
      "14/14 [==============================] - 1s 43ms/step - loss: 0.2746 - val_loss: 0.1725\n",
      "Epoch 31/600\n",
      "14/14 [==============================] - 1s 49ms/step - loss: 0.2713 - val_loss: 0.1594\n",
      "Epoch 32/600\n",
      "14/14 [==============================] - 1s 40ms/step - loss: 0.2381 - val_loss: 0.1584\n",
      "Epoch 33/600\n",
      "14/14 [==============================] - 1s 38ms/step - loss: 0.2670 - val_loss: 0.1668\n",
      "Epoch 34/600\n",
      "14/14 [==============================] - 0s 35ms/step - loss: 0.2711 - val_loss: 0.1486\n",
      "Epoch 35/600\n",
      "14/14 [==============================] - 1s 61ms/step - loss: 0.2127 - val_loss: 0.1418\n",
      "Epoch 36/600\n",
      "14/14 [==============================] - 1s 44ms/step - loss: 0.2070 - val_loss: 0.1333\n",
      "Epoch 37/600\n",
      "14/14 [==============================] - 1s 41ms/step - loss: 0.2153 - val_loss: 0.1271\n",
      "Epoch 38/600\n",
      "14/14 [==============================] - 1s 42ms/step - loss: 0.2367 - val_loss: 0.1394\n",
      "Epoch 39/600\n",
      "14/14 [==============================] - 1s 44ms/step - loss: 0.2303 - val_loss: 0.1391\n",
      "Epoch 40/600\n",
      "14/14 [==============================] - 0s 35ms/step - loss: 0.2207 - val_loss: 0.1246\n",
      "Epoch 41/600\n",
      "14/14 [==============================] - 1s 37ms/step - loss: 0.2103 - val_loss: 0.1234\n",
      "Epoch 42/600\n",
      "14/14 [==============================] - 1s 48ms/step - loss: 0.1827 - val_loss: 0.1240\n",
      "Epoch 43/600\n",
      "14/14 [==============================] - 1s 41ms/step - loss: 0.2011 - val_loss: 0.1125\n",
      "Epoch 44/600\n",
      "14/14 [==============================] - 1s 52ms/step - loss: 0.2114 - val_loss: 0.1106\n",
      "Epoch 45/600\n",
      "14/14 [==============================] - 0s 32ms/step - loss: 0.1782 - val_loss: 0.1108\n",
      "Epoch 46/600\n",
      "14/14 [==============================] - 1s 45ms/step - loss: 0.1988 - val_loss: 0.1148\n",
      "Epoch 47/600\n",
      "14/14 [==============================] - 1s 36ms/step - loss: 0.2163 - val_loss: 0.1093\n",
      "Epoch 48/600\n",
      "14/14 [==============================] - 1s 37ms/step - loss: 0.1520 - val_loss: 0.1121\n",
      "Epoch 49/600\n",
      "14/14 [==============================] - 1s 40ms/step - loss: 0.1739 - val_loss: 0.1140\n",
      "Epoch 50/600\n",
      "14/14 [==============================] - 1s 55ms/step - loss: 0.1669 - val_loss: 0.1044\n",
      "Epoch 51/600\n",
      "14/14 [==============================] - 0s 34ms/step - loss: 0.1620 - val_loss: 0.1007\n",
      "Epoch 52/600\n",
      "14/14 [==============================] - 1s 64ms/step - loss: 0.1409 - val_loss: 0.1044\n",
      "Epoch 53/600\n",
      "14/14 [==============================] - 1s 36ms/step - loss: 0.1489 - val_loss: 0.0957\n",
      "Epoch 54/600\n",
      "14/14 [==============================] - 1s 44ms/step - loss: 0.1432 - val_loss: 0.0940\n",
      "Epoch 55/600\n",
      "14/14 [==============================] - 0s 33ms/step - loss: 0.1298 - val_loss: 0.0957\n",
      "Epoch 56/600\n",
      "14/14 [==============================] - 0s 30ms/step - loss: 0.1448 - val_loss: 0.0931\n",
      "Epoch 57/600\n",
      "14/14 [==============================] - 1s 37ms/step - loss: 0.1487 - val_loss: 0.0913\n",
      "Epoch 58/600\n",
      "14/14 [==============================] - 0s 36ms/step - loss: 0.1651 - val_loss: 0.0999\n",
      "Epoch 59/600\n",
      "14/14 [==============================] - 1s 40ms/step - loss: 0.1451 - val_loss: 0.0982\n",
      "Epoch 60/600\n",
      "14/14 [==============================] - 1s 37ms/step - loss: 0.1486 - val_loss: 0.0986\n",
      "Epoch 61/600\n",
      "14/14 [==============================] - 0s 35ms/step - loss: 0.1575 - val_loss: 0.0983\n",
      "Epoch 62/600\n",
      "14/14 [==============================] - 1s 36ms/step - loss: 0.1392 - val_loss: 0.0923\n",
      "Epoch 63/600\n",
      "14/14 [==============================] - 1s 59ms/step - loss: 0.1557 - val_loss: 0.0886\n",
      "Epoch 64/600\n",
      "14/14 [==============================] - 1s 38ms/step - loss: 0.1275 - val_loss: 0.0980\n",
      "Epoch 65/600\n",
      "14/14 [==============================] - 0s 33ms/step - loss: 0.1328 - val_loss: 0.0895\n",
      "Epoch 66/600\n",
      "14/14 [==============================] - 0s 32ms/step - loss: 0.1249 - val_loss: 0.0860\n",
      "Epoch 67/600\n",
      "14/14 [==============================] - 1s 40ms/step - loss: 0.1444 - val_loss: 0.0847\n",
      "Epoch 68/600\n",
      "14/14 [==============================] - 0s 31ms/step - loss: 0.1326 - val_loss: 0.0919\n",
      "Epoch 69/600\n",
      "14/14 [==============================] - 1s 41ms/step - loss: 0.1263 - val_loss: 0.0880\n",
      "Epoch 70/600\n",
      "14/14 [==============================] - 0s 36ms/step - loss: 0.1095 - val_loss: 0.0821\n",
      "Epoch 71/600\n",
      "14/14 [==============================] - 0s 34ms/step - loss: 0.1265 - val_loss: 0.0831\n",
      "Epoch 72/600\n",
      "14/14 [==============================] - 0s 30ms/step - loss: 0.1150 - val_loss: 0.0805\n",
      "Epoch 73/600\n",
      "14/14 [==============================] - 1s 37ms/step - loss: 0.1235 - val_loss: 0.0800\n",
      "Epoch 74/600\n",
      "14/14 [==============================] - 0s 34ms/step - loss: 0.1416 - val_loss: 0.0881\n",
      "Epoch 75/600\n",
      "14/14 [==============================] - 1s 36ms/step - loss: 0.1151 - val_loss: 0.0803\n",
      "Epoch 76/600\n",
      "14/14 [==============================] - 0s 28ms/step - loss: 0.1305 - val_loss: 0.0896\n",
      "Epoch 77/600\n",
      "14/14 [==============================] - 0s 35ms/step - loss: 0.1059 - val_loss: 0.0830\n",
      "Epoch 78/600\n",
      "14/14 [==============================] - 0s 30ms/step - loss: 0.1394 - val_loss: 0.0827\n",
      "Epoch 79/600\n",
      "14/14 [==============================] - 0s 33ms/step - loss: 0.1210 - val_loss: 0.0947\n",
      "Epoch 80/600\n"
     ]
    },
    {
     "name": "stdout",
     "output_type": "stream",
     "text": [
      "14/14 [==============================] - 0s 29ms/step - loss: 0.1163 - val_loss: 0.0820\n",
      "Epoch 81/600\n",
      "14/14 [==============================] - 0s 31ms/step - loss: 0.1054 - val_loss: 0.0816\n",
      "Epoch 82/600\n",
      "14/14 [==============================] - 0s 30ms/step - loss: 0.1256 - val_loss: 0.0830\n",
      "Epoch 83/600\n",
      "14/14 [==============================] - 0s 27ms/step - loss: 0.1183 - val_loss: 0.0840\n",
      "Epoch 84/600\n",
      "14/14 [==============================] - 0s 30ms/step - loss: 0.0879 - val_loss: 0.0892\n",
      "Epoch 85/600\n",
      "14/14 [==============================] - 0s 29ms/step - loss: 0.0984 - val_loss: 0.0970\n",
      "Epoch 86/600\n",
      "14/14 [==============================] - 0s 28ms/step - loss: 0.1211 - val_loss: 0.0847\n",
      "Epoch 87/600\n",
      "14/14 [==============================] - 0s 36ms/step - loss: 0.1044 - val_loss: 0.0848\n",
      "Epoch 88/600\n",
      "14/14 [==============================] - 0s 32ms/step - loss: 0.1152 - val_loss: 0.0883\n",
      "Epoch 89/600\n",
      "14/14 [==============================] - 0s 28ms/step - loss: 0.1095 - val_loss: 0.0825\n",
      "Epoch 90/600\n",
      "14/14 [==============================] - 0s 32ms/step - loss: 0.1152 - val_loss: 0.0876\n",
      "Epoch 91/600\n",
      "14/14 [==============================] - 0s 27ms/step - loss: 0.1133 - val_loss: 0.0812\n",
      "Epoch 92/600\n",
      "14/14 [==============================] - 0s 35ms/step - loss: 0.1214 - val_loss: 0.0920\n",
      "Epoch 93/600\n",
      "14/14 [==============================] - 0s 29ms/step - loss: 0.0902 - val_loss: 0.0848\n",
      "Epoch 94/600\n",
      "14/14 [==============================] - 0s 28ms/step - loss: 0.1107 - val_loss: 0.0811\n",
      "Epoch 95/600\n",
      "14/14 [==============================] - 0s 31ms/step - loss: 0.1363 - val_loss: 0.0902\n",
      "Epoch 96/600\n",
      "14/14 [==============================] - 0s 27ms/step - loss: 0.0910 - val_loss: 0.0806\n",
      "Epoch 97/600\n",
      "14/14 [==============================] - 1s 46ms/step - loss: 0.1191 - val_loss: 0.0827\n",
      "Epoch 98/600\n",
      "14/14 [==============================] - 0s 31ms/step - loss: 0.1054 - val_loss: 0.0796\n",
      "Epoch 99/600\n",
      "14/14 [==============================] - 0s 31ms/step - loss: 0.1120 - val_loss: 0.0800\n",
      "Epoch 100/600\n",
      "14/14 [==============================] - 0s 32ms/step - loss: 0.1053 - val_loss: 0.0855\n",
      "Epoch 101/600\n",
      "14/14 [==============================] - 0s 29ms/step - loss: 0.0911 - val_loss: 0.0850\n",
      "Epoch 102/600\n",
      "14/14 [==============================] - 0s 35ms/step - loss: 0.1053 - val_loss: 0.0891\n",
      "Epoch 103/600\n",
      "14/14 [==============================] - 0s 31ms/step - loss: 0.1078 - val_loss: 0.0925\n",
      "Epoch 104/600\n",
      "14/14 [==============================] - 1s 42ms/step - loss: 0.1193 - val_loss: 0.0789\n",
      "Epoch 105/600\n",
      "14/14 [==============================] - 1s 46ms/step - loss: 0.0905 - val_loss: 0.0892\n",
      "Epoch 106/600\n",
      "14/14 [==============================] - 0s 36ms/step - loss: 0.0880 - val_loss: 0.0978\n",
      "Epoch 107/600\n",
      "14/14 [==============================] - 0s 34ms/step - loss: 0.0995 - val_loss: 0.0831\n",
      "Epoch 108/600\n",
      "14/14 [==============================] - 1s 38ms/step - loss: 0.1131 - val_loss: 0.0815\n",
      "Epoch 109/600\n",
      "14/14 [==============================] - 0s 34ms/step - loss: 0.0981 - val_loss: 0.0828\n",
      "Epoch 110/600\n",
      "14/14 [==============================] - 0s 33ms/step - loss: 0.0811 - val_loss: 0.0851\n",
      "Epoch 111/600\n",
      "14/14 [==============================] - 0s 32ms/step - loss: 0.0993 - val_loss: 0.0868\n",
      "Epoch 112/600\n",
      "14/14 [==============================] - 0s 31ms/step - loss: 0.0923 - val_loss: 0.0784\n",
      "Epoch 113/600\n",
      "14/14 [==============================] - 0s 28ms/step - loss: 0.0983 - val_loss: 0.0847\n",
      "Epoch 114/600\n",
      "14/14 [==============================] - 0s 28ms/step - loss: 0.1087 - val_loss: 0.0923\n",
      "Epoch 115/600\n",
      "14/14 [==============================] - 0s 31ms/step - loss: 0.1026 - val_loss: 0.0844\n",
      "Epoch 116/600\n",
      "14/14 [==============================] - 0s 29ms/step - loss: 0.0772 - val_loss: 0.0887\n",
      "Epoch 117/600\n",
      "14/14 [==============================] - 0s 33ms/step - loss: 0.0937 - val_loss: 0.0920\n",
      "Epoch 118/600\n",
      "14/14 [==============================] - 0s 33ms/step - loss: 0.0928 - val_loss: 0.0883\n",
      "Epoch 119/600\n",
      "14/14 [==============================] - 0s 28ms/step - loss: 0.0683 - val_loss: 0.0795\n",
      "Epoch 120/600\n",
      "14/14 [==============================] - 0s 31ms/step - loss: 0.0744 - val_loss: 0.0885\n",
      "Epoch 121/600\n",
      "14/14 [==============================] - 0s 30ms/step - loss: 0.0798 - val_loss: 0.0920\n",
      "Epoch 122/600\n",
      "14/14 [==============================] - 0s 23ms/step - loss: 0.0835 - val_loss: 0.0826\n",
      "Epoch 123/600\n",
      "14/14 [==============================] - 0s 31ms/step - loss: 0.0929 - val_loss: 0.0831\n",
      "Epoch 124/600\n",
      "14/14 [==============================] - 0s 31ms/step - loss: 0.0822 - val_loss: 0.0791\n",
      "Epoch 125/600\n",
      "14/14 [==============================] - 0s 31ms/step - loss: 0.0893 - val_loss: 0.1099\n",
      "Epoch 126/600\n",
      "14/14 [==============================] - 1s 65ms/step - loss: 0.0721 - val_loss: 0.0858\n",
      "Epoch 127/600\n",
      "14/14 [==============================] - 0s 27ms/step - loss: 0.0896 - val_loss: 0.0815\n",
      "Epoch 128/600\n",
      "14/14 [==============================] - 0s 28ms/step - loss: 0.0798 - val_loss: 0.0808\n",
      "Epoch 129/600\n",
      "14/14 [==============================] - 0s 30ms/step - loss: 0.0946 - val_loss: 0.0891\n",
      "Epoch 130/600\n",
      "14/14 [==============================] - 0s 31ms/step - loss: 0.0622 - val_loss: 0.0900\n",
      "Epoch 131/600\n",
      "14/14 [==============================] - 0s 35ms/step - loss: 0.0681 - val_loss: 0.0941\n",
      "Epoch 132/600\n",
      "14/14 [==============================] - 0s 34ms/step - loss: 0.0830 - val_loss: 0.1102\n",
      "Epoch 133/600\n",
      "14/14 [==============================] - 0s 33ms/step - loss: 0.0942 - val_loss: 0.0918\n",
      "Epoch 134/600\n",
      "14/14 [==============================] - 0s 30ms/step - loss: 0.0841 - val_loss: 0.0857\n",
      "Epoch 135/600\n",
      "14/14 [==============================] - 0s 36ms/step - loss: 0.0943 - val_loss: 0.0746\n",
      "Epoch 136/600\n",
      "14/14 [==============================] - 0s 31ms/step - loss: 0.0953 - val_loss: 0.0906\n",
      "Epoch 137/600\n",
      "14/14 [==============================] - 0s 27ms/step - loss: 0.0828 - val_loss: 0.0928\n",
      "Epoch 138/600\n",
      "14/14 [==============================] - 0s 32ms/step - loss: 0.0866 - val_loss: 0.0764\n",
      "Epoch 139/600\n",
      "14/14 [==============================] - 0s 31ms/step - loss: 0.0894 - val_loss: 0.0817\n",
      "Epoch 140/600\n",
      "14/14 [==============================] - 0s 28ms/step - loss: 0.0806 - val_loss: 0.0962\n",
      "Epoch 141/600\n",
      "14/14 [==============================] - 0s 31ms/step - loss: 0.0822 - val_loss: 0.0870\n",
      "Epoch 142/600\n",
      "14/14 [==============================] - 0s 29ms/step - loss: 0.0796 - val_loss: 0.0787\n",
      "Epoch 143/600\n",
      "14/14 [==============================] - 0s 32ms/step - loss: 0.0809 - val_loss: 0.0860\n",
      "Epoch 144/600\n",
      "14/14 [==============================] - 0s 33ms/step - loss: 0.0949 - val_loss: 0.0920\n",
      "Epoch 145/600\n",
      "14/14 [==============================] - 0s 31ms/step - loss: 0.0875 - val_loss: 0.1196\n",
      "Epoch 146/600\n",
      "14/14 [==============================] - 0s 29ms/step - loss: 0.0721 - val_loss: 0.0918\n",
      "Epoch 147/600\n",
      "14/14 [==============================] - 0s 27ms/step - loss: 0.0631 - val_loss: 0.0841\n",
      "Epoch 148/600\n",
      "14/14 [==============================] - 0s 28ms/step - loss: 0.0836 - val_loss: 0.1000\n",
      "Epoch 149/600\n",
      "14/14 [==============================] - 0s 28ms/step - loss: 0.0839 - val_loss: 0.0801\n",
      "Epoch 150/600\n",
      "14/14 [==============================] - 0s 31ms/step - loss: 0.0973 - val_loss: 0.0796\n",
      "Epoch 151/600\n",
      "14/14 [==============================] - 0s 32ms/step - loss: 0.0845 - val_loss: 0.0888\n",
      "Epoch 152/600\n",
      "14/14 [==============================] - 0s 32ms/step - loss: 0.0795 - val_loss: 0.0893\n",
      "Epoch 153/600\n",
      "14/14 [==============================] - 1s 52ms/step - loss: 0.1021 - val_loss: 0.0826\n",
      "Epoch 154/600\n",
      "14/14 [==============================] - 0s 29ms/step - loss: 0.0746 - val_loss: 0.0808\n",
      "Epoch 155/600\n",
      "14/14 [==============================] - 0s 31ms/step - loss: 0.0685 - val_loss: 0.0812\n",
      "Epoch 156/600\n",
      "14/14 [==============================] - 0s 31ms/step - loss: 0.0781 - val_loss: 0.0947\n",
      "Epoch 157/600\n",
      "14/14 [==============================] - 0s 30ms/step - loss: 0.0805 - val_loss: 0.0935\n",
      "Epoch 158/600\n",
      "14/14 [==============================] - 0s 33ms/step - loss: 0.0803 - val_loss: 0.0966\n",
      "Epoch 159/600\n",
      "14/14 [==============================] - 0s 34ms/step - loss: 0.0666 - val_loss: 0.0885\n",
      "Epoch 160/600\n"
     ]
    },
    {
     "name": "stdout",
     "output_type": "stream",
     "text": [
      "14/14 [==============================] - 0s 28ms/step - loss: 0.0724 - val_loss: 0.0876\n",
      "Epoch 00160: early stopping\n"
     ]
    },
    {
     "data": {
      "text/plain": [
       "<tensorflow.python.keras.callbacks.History at 0x23d95089e08>"
      ]
     },
     "execution_count": 19,
     "metadata": {},
     "output_type": "execute_result"
    }
   ],
   "source": [
    "#Do not fit more than once under the same callback log_dir\n",
    "model.fit(x=X_train, \n",
    "          y=y_train, \n",
    "          epochs=600,\n",
    "          validation_data=(X_test, y_test), verbose=1,\n",
    "          callbacks=[early_stop,board]\n",
    "          )"
   ]
  },
  {
   "cell_type": "markdown",
   "metadata": {},
   "source": [
    "# Running Tensorboard\n"
   ]
  },
  {
   "cell_type": "markdown",
   "metadata": {},
   "source": [
    "## Running through the Command Line\n",
    "\n",
    "**Watch video to see how to run Tensorboard through a command line call.**"
   ]
  },
  {
   "cell_type": "markdown",
   "metadata": {},
   "source": [
    "Tensorboard will run locally in your browser at [http://localhost:6006/](http://localhost:6006/)\n"
   ]
  },
  {
   "cell_type": "code",
   "execution_count": 19,
   "metadata": {},
   "outputs": [
    {
     "name": "stdout",
     "output_type": "stream",
     "text": [
      "logs\\fit\n"
     ]
    }
   ],
   "source": [
    "print(log_directory)"
   ]
  },
  {
   "cell_type": "code",
   "execution_count": 20,
   "metadata": {},
   "outputs": [
    {
     "data": {
      "text/plain": [
       "'C:\\\\Users\\\\Marcial\\\\Pierian-Data-Courses\\\\TensorFlow-Two-Bootcamp\\\\03-ANNs'"
      ]
     },
     "execution_count": 20,
     "metadata": {},
     "output_type": "execute_result"
    }
   ],
   "source": [
    "pwd"
   ]
  },
  {
   "cell_type": "markdown",
   "metadata": {},
   "source": [
    "### Use cd at your command line to change directory to the file path reported back by pwd or your current .py file location.\n",
    "### Then run this code at your command line or terminal"
   ]
  },
  {
   "cell_type": "code",
   "execution_count": null,
   "metadata": {},
   "outputs": [],
   "source": [
    "tensorboard --logdir logs\\fit "
   ]
  }
 ],
 "metadata": {
  "kernelspec": {
   "display_name": "Python 3",
   "language": "python",
   "name": "python3"
  },
  "language_info": {
   "codemirror_mode": {
    "name": "ipython",
    "version": 3
   },
   "file_extension": ".py",
   "mimetype": "text/x-python",
   "name": "python",
   "nbconvert_exporter": "python",
   "pygments_lexer": "ipython3",
   "version": "3.7.6"
  }
 },
 "nbformat": 4,
 "nbformat_minor": 2
}
